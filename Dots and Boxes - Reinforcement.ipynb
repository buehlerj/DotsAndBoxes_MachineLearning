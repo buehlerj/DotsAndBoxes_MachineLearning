{
 "cells": [
  {
   "cell_type": "markdown",
   "metadata": {
    "nbpresent": {
     "id": "4a1331e4-b774-40b6-bb49-c16ea9589417"
    }
   },
   "source": [
    "# Dots and Boxes\n",
    "\n",
    "*Jeffrey Buehler & Bobby Signor*\n",
    "$\\newcommand{\\xv}{\\mathbf{x}}\n",
    "\\newcommand{\\Xv}{\\mathbf{X}}\n",
    "\\newcommand{\\yv}{\\mathbf{y}}\n",
    "\\newcommand{\\zv}{\\mathbf{z}}\n",
    "\\newcommand{\\av}{\\mathbf{a}}\n",
    "\\newcommand{\\Wv}{\\mathbf{W}}\n",
    "\\newcommand{\\wv}{\\mathbf{w}}\n",
    "\\newcommand{\\tv}{\\mathbf{t}}\n",
    "\\newcommand{\\Tv}{\\mathbf{T}}\n",
    "\\newcommand{\\muv}{\\boldsymbol{\\mu}}\n",
    "\\newcommand{\\sigmav}{\\boldsymbol{\\sigma}}\n",
    "\\newcommand{\\phiv}{\\boldsymbol{\\phi}}\n",
    "\\newcommand{\\Phiv}{\\boldsymbol{\\Phi}}\n",
    "\\newcommand{\\Sigmav}{\\boldsymbol{\\Sigma}}\n",
    "\\newcommand{\\Lambdav}{\\boldsymbol{\\Lambda}}\n",
    "\\newcommand{\\half}{\\frac{1}{2}}\n",
    "\\newcommand{\\argmax}[1]{\\underset{#1}{\\operatorname{argmax}}}\n",
    "\\newcommand{\\argmin}[1]{\\underset{#1}{\\operatorname{argmin}}}$"
   ]
  },
  {
   "cell_type": "markdown",
   "metadata": {},
   "source": [
    "## Background\n",
    "\n",
    "Our goal for this project was to create an AI capable of beating a random opponent at a game called Dots and Boxes at least 80% of the time, using reinforcement learning techniques."
   ]
  },
  {
   "cell_type": "markdown",
   "metadata": {
    "nbpresent": {
     "id": "9f03bccb-0272-46b0-becd-425ea029f3f7"
    }
   },
   "source": [
    "### The Game\n",
    "\n",
    "Dots and Boxes is a simple game for two players. The gameboard consists of a grid of an abitrary size. For this project, we chose to fix the size of the board to 5 x 5 boxes.\n",
    "<figure>\n",
    "    <img src=\"img/0-empty.png\">\n",
    "    <figcaption>\n",
    "        <div style=\"text-align: center\">**Fig. 1.1:** An empty 5 x 5 board.</div>\n",
    "    </figcaption>\n",
    "</figure>\n",
    "\n",
    "Each player switches off taking turns. A turn starts with the player drawing a line between two adjacent unconnected dots. If the new line the player draws does not complete a 1 x 1 square, then that player's turn is over and it is the other player's turn.\n",
    "<figure>\n",
    "    <img src=\"img/fig2.png\">\n",
    "    <figcaption>\n",
    "        <div style=\"text-align: center\">**Fig. 1.2:** An example of a player taking a turn and not completing a box.</div>\n",
    "    </figcaption>\n",
    "</figure>\n",
    "\n",
    "However, if the player draws a line that does complete a 1 x 1 square, the player is rewarded a point for that box and gets to draw another line, with the above rule still in place.\n",
    "<figure>\n",
    "    <img src=\"img/fig3.png\">\n",
    "    <figcaption>\n",
    "        <div style=\"text-align: center\">**Fig. 1.3:** An example of a player drawing a line, completing a box, and then drawing another line.</div>\n",
    "    </figcaption>\n",
    "</figure>\n",
    "\n",
    "The game ends when it is no longer possible to draw another line. The winner is determined by whoever has the most boxes at the end of the game. In the example game shown in Figure 1.4, player X would be the winner.\n",
    "<figure>\n",
    "    <img src=\"img/fig4.png\">\n",
    "    <figcaption>\n",
    "        <div style=\"text-align: center\">**Fig. 1.4:** An example of a board after a game's been completed. Here, player X has 16 points, while player O has 9.</div>\n",
    "    </figcaption>\n",
    "</figure>\n",
    "\n",
    "#### A Simple Strategy\n",
    "\n",
    "While the objective of the game is to score more points than your opponent, it is not always wise to complete boxes as quickly as possible. One strategy that is quickly learned by human opponents is creating paths that can eventually be completed without giving your opponent a chance to counter, as shown in Figure 1.3. When used correctly, this strategy maximizes the number of points earned by reducing the number of opportunities your opponent has to draw lines. However, this must be done with care, since your opponent may also take the opportunity to complete your path and steal those points from you.\n",
    "<figure>\n",
    "    <img src=\"img/fig5.png\">\n",
    "    <figcaption>\n",
    "        <div style=\"text-align: center\">**Fig. 1.5:** An example of a board setup that would net a single player 9 points before the other player can take their turn.</div>\n",
    "    </figcaption>\n",
    "</figure>"
   ]
  },
  {
   "cell_type": "markdown",
   "metadata": {
    "nbpresent": {
     "id": "7e41a529-91eb-4813-a621-90eccef0e207"
    }
   },
   "source": [
    "## Implementation\n",
    "\n",
    "### Game\n",
    "\n",
    "The Game object contains the complete state of the game and the logic required to correctly play it. Initializing it and starting a new game is as follows:\n",
    "\n",
    "```python\n",
    "g = Game()\n",
    "g.play(player1, player2)\n",
    "``` \n",
    "\n",
    "### Players\n",
    "\n",
    "We have created 2 different kinds of players for our game:\n",
    "\n",
    "1. **Random Player:** This player chooses moves simply by randomly choosing any of the available moves at random each time it's asked. Its play does not improve as it plays more games.\n",
    " \n",
    "2. **AI Player:** This player uses reinforcement learning techniques (see below) to learn which move given a board state is most likely to result in a win, and choosing that one. We can also have it make some of its moves randomly for training by specifying the probability it takes a random move in a parameter called epsilon. While training, we start epsilon at 1 and steadily decay that number as the AI Player is exposed to more board states and more games."
   ]
  },
  {
   "cell_type": "markdown",
   "metadata": {
    "nbpresent": {
     "id": "bbbef074-015e-4ebb-9cdf-7a39c8883c7e"
    }
   },
   "source": [
    "## The Machine Learning Method: Reinforcement Programming\n",
    "\n",
    "### Reinforcement Learning\n",
    "\n",
    "Reinforcement learning is a method of machine learning used to teach a program to give correct output given input using reward/punishment. The behavior of a reinforced program is based on the psychological response of humans trying to suceed at a task. One way to picture this is to imagine a child being taught how to read by a grade-school teacher. They are presented with simple words and are asked to sound out the word. If presented incorrectly, the teacher will inform the child they were wrong and give feedback on how to improve. If the child pronounces the word correctly, they are given positive feedback, and sometimes some sort of reward. Eventually, the child will learn that certain letters interact with others in certian ways because they were given positive reinforcement when they did something correct.\n",
    "\n",
    "### Applied to AI Player\n",
    "\n",
    "We will be applying reinforcement learning to our AI Player. It will be reinforced depending on the moves it makes that end up winning a game. Positive reinforcement will be given whenever the AI is able to win a game. The decisions the AI makes will be determined on past experience of winning moves.\n",
    "\n",
    "### Hypothesis\n",
    "\n",
    "We believe if we train the AI enough, it will be able to defeat a random opponent easily. If we train it against another AI, it will be able to learn more sensible moves to make. We also believe that if trained against a human opponent, it will eventually learn the strategies talked about earlier that humans are able to do."
   ]
  },
  {
   "cell_type": "markdown",
   "metadata": {
    "nbpresent": {
     "id": "f0313035-aad9-4326-acb0-e24b675c1450"
    }
   },
   "source": [
    "## Required Code"
   ]
  },
  {
   "cell_type": "code",
   "execution_count": 1,
   "metadata": {
    "collapsed": false,
    "nbpresent": {
     "id": "8e058acd-0039-4fe8-98f4-1861e851a656"
    }
   },
   "outputs": [
    {
     "name": "stdout",
     "output_type": "stream",
     "text": [
      "Populating the interactive namespace from numpy and matplotlib\n"
     ]
    }
   ],
   "source": [
    "# External Game & Player Code\n",
    "import game\n",
    "import players\n",
    "\n",
    "# Graphing\n",
    "%pylab inline\n",
    "import matplotlib.pyplot as plt\n",
    "from IPython.display import display, clear_output\n",
    "import IPython.display as ipd\n",
    "\n",
    "# Misc.\n",
    "import time\n",
    "import copy"
   ]
  },
  {
   "cell_type": "markdown",
   "metadata": {
    "nbpresent": {
     "id": "4a87510e-747b-4021-b1de-7fb71a7a20d8"
    }
   },
   "source": [
    "## Training/Testing Functions"
   ]
  },
  {
   "cell_type": "code",
   "execution_count": null,
   "metadata": {
    "collapsed": false,
    "nbpresent": {
     "id": "cb2e6da6-921f-4799-800f-ace3643fc808"
    }
   },
   "outputs": [],
   "source": [
    "def playTestvsRandom(p1, p2, printturns = False):\n",
    "    start = time.time()\n",
    "    aiWins = 0\n",
    "    winPercent = {}\n",
    "    for i in range(trainIterations):\n",
    "        g = game.Game()\n",
    "        if i % 2 is 0:\n",
    "            g.play(p1, p2, printturns=printturns)\n",
    "        else:\n",
    "            g.play(p2, p1, printturns=printturns)\n",
    "        if g.score.index(max(g.score)) is p1.playernum:\n",
    "            aiWins += 1\n",
    "        winPercent[i] = aiWins / (i + 1)\n",
    "    print(\"Train vs. Random:\\t{} wins out of {}\".format(aiWins, trainIterations))\n",
    "    print(\"Took \", time.time() - start, \"seconds.\\n\")\n",
    "    return winPercent\n",
    "\n",
    "def playTrainvsRandom(p1, p2, printturns = False):\n",
    "    start = time.time()\n",
    "    aiWins = 0\n",
    "    winPercent = {}\n",
    "    p1.train = False\n",
    "    for i in range(randTestIterations):\n",
    "        g = game.Game()\n",
    "        if i % 2 is 0:\n",
    "            g.play(p1, p2, printturns=printturns)\n",
    "        else:\n",
    "            g.play(p2, p1, printturns=printturns)\n",
    "        if g.score.index(max(g.score)) is p1.playernum:\n",
    "            aiWins += 1\n",
    "        winPercent[i] = aiWins / (i + 1)\n",
    "    print(\"Test vs. Random:\\t{} wins out of {}\".format(aiWins, randTestIterations))\n",
    "    print(\"Took \", time.time() - start, \"seconds.\\n\")\n",
    "    return winPercent\n",
    "\n",
    "def playTrainvsSelf(p1, p2, printturns = False):\n",
    "    start = time.time()\n",
    "    wins = [0, 0]\n",
    "    p1.train = True\n",
    "    p1.epsilon = initialEpsilon\n",
    "    p2 = players.AIPlayer(rho=rho, epsilon=initialEpsilon, seed=seed2)\n",
    "    p2.Q = p1.Q\n",
    "    winPercent = {}\n",
    "    aiWins = 0\n",
    "    for i in range(aiTrainIterations):\n",
    "        g = game.Game()\n",
    "        g.play(p1, p2, printturns=False)\n",
    "        wins[g.score.index(max(g.score))] += 1\n",
    "        p1.epsilon *= epsilonDecay\n",
    "        p2.epsilon *= epsilonDecay\n",
    "        aiWins += 1\n",
    "        winPercent[i] = aiWins / (i + 1)\n",
    "    print(\"Train vs. Self:\\t{} wins to {} wins\".format(wins[0], wins[1]))\n",
    "    print(\"Took \", time.time() - start, \"seconds.\\n\")\n",
    "    return winPercent\n",
    "\n",
    "def playTestvsSelf(p1, p2, printturns = False):\n",
    "    start = time.time()\n",
    "    wins = [0, 0]\n",
    "    p1.train = False\n",
    "    p2.train = False\n",
    "    aiWins = 0\n",
    "    winPercent = {}\n",
    "    for i in range(aiTestIterations):\n",
    "        g = game.Game()\n",
    "        g.play(p1, p2, printturns=False)\n",
    "        wins[g.score.index(max(g.score))] += 1\n",
    "        aiWins += 1\n",
    "        winPercent[i] = aiWins / (i + 1)\n",
    "    print(\"Test vs. Self:\\t{} wins to {} wins\".format(wins[0], wins[1]))\n",
    "    print(\"Took \", time.time() - start, \"seconds.\\n\")\n",
    "    return winPercent"
   ]
  },
  {
   "cell_type": "code",
   "execution_count": null,
   "metadata": {
    "collapsed": true,
    "nbpresent": {
     "id": "c9fa070b-7636-4cdc-a5a3-01fa3c80171a"
    }
   },
   "outputs": [],
   "source": [
    "def play(p1, p2, printturns = False):\n",
    "    winPercentage1 = playTestvsRandom(p1, p2, printturns)\n",
    "    winPercentage2 = playTrainvsRandom(p1, p2, printturns)\n",
    "\n",
    "    print(\"--------------------------------------------\")\n",
    "\n",
    "    winPercentage3 = playTrainvsSelf(p1, p2, printturns)\n",
    "    winPercentage4 = playTestvsSelf(p1, p2, printturns)\n",
    "    return winPercentage1, winPercentage2, winPercentage3, winPercentage4"
   ]
  },
  {
   "cell_type": "markdown",
   "metadata": {
    "nbpresent": {
     "id": "7316d4a6-9634-4f61-b079-9b3a25c7c0bc"
    }
   },
   "source": [
    "## Graphing Functions\n",
    "\n",
    "The folliowing functions allow us to visually show our results."
   ]
  },
  {
   "cell_type": "code",
   "execution_count": 12,
   "metadata": {
    "collapsed": false,
    "nbpresent": {
     "id": "e40e19e4-832a-4046-9890-e1187d0b725a"
    },
    "scrolled": false
   },
   "outputs": [],
   "source": [
    "def graph_all(board):\n",
    "    graph_board(board)\n",
    "\n",
    "def graph_epsilon():\n",
    "    return 0\n",
    "\n",
    "def graph_board(board):\n",
    "    plt.plot(board.shape[1] - 1, board.shape[1] - 1)\n",
    "    plt.xlim(-1,board.shape[1])\n",
    "    plt.ylim(-1,board.shape[1])\n",
    "    plt.gca().invert_yaxis()\n",
    "    plt.axis('off')\n",
    "    plt.gca().axes.get_xaxis().set_visible(False)\n",
    "    plt.gca().axes.get_yaxis().set_visible(False)\n",
    "    \n",
    "    for r in range(board.shape[0]):\n",
    "        for c in range(board.shape[1]):\n",
    "            x = None\n",
    "            if board[r, c] == True:\n",
    "                if r % 2 == 0:\n",
    "                    if c < 5:\n",
    "                        x, y = [c, c + 1], [int(r / 2), int(r / 2)]\n",
    "                else:\n",
    "                    x, y = [c, c], [int(r / 2), int(r / 2) + 1]\n",
    "                if x is not None:\n",
    "                    plt.plot(x, y, color=\"#000000\")\n",
    "    \n",
    "    for i in range(board.shape[1]):\n",
    "        for j in range(board.shape[1]):\n",
    "            plt.scatter(i, j)\n",
    "\n",
    "def graph_win_percentage(winPercent, graphTitle):\n",
    "    pointsToPlotPercent = .01\n",
    "    frames = int(len(winPercent) * pointsToPlotPercent)\n",
    "    for key, value in winPercent.items():\n",
    "        if (key % frames == 0):\n",
    "            plt.scatter(key, value, marker='.')\n",
    "    plt.xlim(0, len(winPercent))\n",
    "    plt.ylim(0, 1)\n",
    "    x, y = [0, len(winPercent)], [.5, .5]\n",
    "    plt.plot(x, y, color=\"r\")\n",
    "    xlabel('Games')\n",
    "    ylabel('Win (%)')\n",
    "    title(graphTitle)\n",
    "    print(\"Final Win Rate: \", winPercent[len(winPercent) - 1])"
   ]
  },
  {
   "cell_type": "markdown",
   "metadata": {},
   "source": [
    "## Control: RandomPlayer vs. RandomPlayer\n",
    "\n",
    "For our control, we pit 2 RandomPlayers against each other to see the results and make sure that there's no advantage inherent advantage that we haven't forseen (such as first move advantage)."
   ]
  },
  {
   "cell_type": "code",
   "execution_count": 13,
   "metadata": {
    "collapsed": false,
    "nbpresent": {
     "id": "aa0ef74e-7908-4611-9c78-30677e93f2ef"
    },
    "scrolled": false
   },
   "outputs": [
    {
     "name": "stdout",
     "output_type": "stream",
     "text": [
      "Random vs. Random: 989 wins to 1011 wins (2000 games total).\n",
      "Took 5.489197015762329 seconds.\n",
      "Final Win Rate:  0.4945\n"
     ]
    },
    {
     "data": {
      "image/png": "[encoded data removed]",
      "text/plain": [
       "<matplotlib.figure.Figure at 0x1ac31d4dc88>"
      ]
     },
     "metadata": {},
     "output_type": "display_data"
    }
   ],
   "source": [
    "# Random vs. Random\n",
    "chaosIterations = 2000\n",
    "start = time.time()\n",
    "wins = [0, 0]\n",
    "winRecordTracker = {}\n",
    "p1 = players.RandomPlayer()\n",
    "p2 = players.RandomPlayer()\n",
    "\n",
    "for i in range(chaosIterations):\n",
    "    g = game.Game()\n",
    "    g.play(p1, p2)\n",
    "    wins[g.score.index(max(g.score))] += 1\n",
    "    winRecordTracker[i] = wins[0] / (i + 1)\n",
    "\n",
    "print(\"Random vs. Random: {} wins to {} wins ({} games total).\".format(wins[0], wins[1], chaosIterations))\n",
    "print(\"Took\", time.time() - start, \"seconds.\")\n",
    "graph_win_percentage(winRecordTracker, \"Win Rate: RandomPlayer vs. RandomPlayer\")"
   ]
  },
  {
   "cell_type": "markdown",
   "metadata": {
    "nbpresent": {
     "id": "5e82d6cb-49e5-433d-ac64-39411d847123"
    }
   },
   "source": [
    "#### Observations\n",
    "\n",
    "We can see that win percentages remain roughly around 50%, which was expected when two players simply choosing random moves go against each other. This indicates that we were correct in assuming that there aren't any outside factors that impact the result."
   ]
  },
  {
   "cell_type": "markdown",
   "metadata": {},
   "source": [
    "## Experiments\n",
    "\n",
    "### Helper Functions\n",
    "\n",
    "To make it easier to perform our experiments, we made several helper functions that we could reuse across multiple tests. The first 2 are functions that allow us to easily train and test an AIPlayer against a RandomPlayer."
   ]
  },
  {
   "cell_type": "code",
   "execution_count": 7,
   "metadata": {
    "collapsed": true
   },
   "outputs": [],
   "source": [
    "def trainVsRandom(aiPlayer, randPlayer, iterations, epsilonDecay):\n",
    "    # Initialize Variables\n",
    "    start = time.time()\n",
    "    aiWins = 0\n",
    "    winPercent = {}\n",
    "    # Configure AIPlayer\n",
    "    aiPlayer.train = True\n",
    "    for i in range(iterations):\n",
    "        g = game.Game()\n",
    "        if i % 2 is 0:\n",
    "            g.play(aiPlayer, randPlayer)\n",
    "        else:\n",
    "            g.play(randPlayer, aiPlayer)\n",
    "        if g.score.index(max(g.score)) is aiPlayer.playernum:\n",
    "            aiWins += 1\n",
    "        winPercent[i] = aiWins / (i + 1)\n",
    "        aiPlayer.epsilon *= epsilonDecay\n",
    "    print(\"Training AIPlayer vs. RandomPlayer\")\n",
    "    print(\"Final Score:\\tAI: {} wins.\\tRandom: {} wins.\".format(aiWins, iterations - aiWins))\n",
    "    print(\"Completed in {} seconds.\\n\".format(time.time() - start))\n",
    "    return winPercent\n",
    "\n",
    "def testVsRandom(aiPlayer, randPlayer, iterations):\n",
    "    # Initialize Variables\n",
    "    start = time.time()\n",
    "    aiWins = 0\n",
    "    winPercent = {}\n",
    "    # Configure AIPlayer\n",
    "    aiPlayer.train = False\n",
    "    for i in range(iterations):\n",
    "        g = game.Game()\n",
    "        if i % 2 is 0:\n",
    "            g.play(aiPlayer, randPlayer)\n",
    "        else:\n",
    "            g.play(aiPlayer, randPlayer)\n",
    "        if g.score.index(max(g.score)) is aiPlayer.playernum:\n",
    "            aiWins += 1\n",
    "        winPercent[i] = aiWins / (i + 1)\n",
    "    print(\"Testing AIPlayer vs. RandomPlayer\")\n",
    "    print(\"Final Score:\\tAI: {} wins.\\tRandom: {} wins.\".format(aiWins, iterations - aiWins))\n",
    "    print(\"Completed in {} seconds.\\n\".format(time.time() - start))\n",
    "    return winPercent"
   ]
  },
  {
   "cell_type": "markdown",
   "metadata": {},
   "source": [
    "The last 2 functions allow us to easily train and test AIPlayers against each other."
   ]
  },
  {
   "cell_type": "code",
   "execution_count": 5,
   "metadata": {
    "collapsed": true
   },
   "outputs": [],
   "source": [
    "def trainVsAi(ai1, ai2, iterations, epsilonDecay):\n",
    "    # Initialize Variables\n",
    "    start = time.time()\n",
    "    ai1Wins = 0\n",
    "    winPercent = {}\n",
    "    # Configure AIPlayers\n",
    "    ai1.train = True\n",
    "    ai2.train = True\n",
    "    for i in range(iterations):\n",
    "        g = game.Game()\n",
    "        if i % 2 is 0:\n",
    "            g.play(ai1, ai2)\n",
    "        else:\n",
    "            g.play(ai2, ai1)\n",
    "        if g.score.index(max(g.score)) is ai1.playernum:\n",
    "            ai1Wins += 1\n",
    "        p1.epsilon *= epsilonDecay\n",
    "        p2.epsilon *= epsilonDecay\n",
    "        winPercent[i] = ai1Wins / (i + 1)\n",
    "    print(\"Training AIPlayer vs. AIPlayer\")\n",
    "    print(\"Final Score:\\tAI: {} wins.\\tRandom: {} wins.\".format(aiWins, iterations - aiWins))\n",
    "    print(\"Completed in {} seconds.\\n\".format(time.time() - start))\n",
    "    return winPercent\n",
    "\n",
    "def testVsAi(ai1, ai2, iterations, epsilonDecay):\n",
    "    start = time.time()\n",
    "    ai1.train = False\n",
    "    ai2.train = False\n",
    "    ai1Wins = 0\n",
    "    winPercent = {}\n",
    "    for i in range(iterations):\n",
    "        g = game.Game()\n",
    "        if i % 2 is 0:\n",
    "            g.play(ai1, ai2)\n",
    "        else:\n",
    "            g.play(ai2, ai1)\n",
    "        if g.score.index(max(g.score)) is ai1.playernum:\n",
    "            ai1Wins += 1\n",
    "        winPercent[i] = ai1Wins / (i + 1)\n",
    "    print(\"Testing AIPlayer vs. AIPlayer\")\n",
    "    print(\"Final Score:\\tAI: {} wins.\\tRandom: {} wins.\".format(aiWins, iterations - aiWins))\n",
    "    print(\"Completed in {} seconds.\\n\".format(time.time() - start))\n",
    "    return winPercent"
   ]
  },
  {
   "cell_type": "markdown",
   "metadata": {
    "nbpresent": {
     "id": "5b4de502-4549-4419-bea4-2163e10a2094"
    }
   },
   "source": [
    "### Experiment 1: Learning from Chaos\n",
    "\n",
    "Our first test is to simply train an AIPlayer against a RandomPlayer over 2,000 iterations, and then see how well that AIPlayer performs against the same opponent after training."
   ]
  },
  {
   "cell_type": "code",
   "execution_count": 9,
   "metadata": {
    "collapsed": false,
    "nbpresent": {
     "id": "5e59690f-d041-4130-8fbf-7fcb756b705a"
    }
   },
   "outputs": [],
   "source": [
    "trainIterations = 2000\n",
    "testIterations = 200\n",
    "rho = 0.2\n",
    "initialEpsilon = 1.0\n",
    "epsilonDecay = 0.99\n",
    "\n",
    "p1 = players.AIPlayer(rho=rho, epsilon=initialEpsilon)\n",
    "p2 = players.RandomPlayer()"
   ]
  },
  {
   "cell_type": "code",
   "execution_count": 10,
   "metadata": {
    "collapsed": false
   },
   "outputs": [
    {
     "name": "stdout",
     "output_type": "stream",
     "text": [
      "Training AIPlayer vs. RandomPlayer\n",
      "Final Score:\tAI: 992 wins.\tRandom: 1008 wins.\n",
      "Completed in 6.07676100730896 seconds.\n",
      "\n",
      "Final Percent Win:  0.496\n"
     ]
    },
    {
     "data": {
      "image/png": "[encoded data removed]",
      "text/plain": [
       "<matplotlib.figure.Figure at 0x1ac272b7940>"
      ]
     },
     "metadata": {},
     "output_type": "display_data"
    }
   ],
   "source": [
    "winrateTrain = trainVsRandom(p1, p2, trainIterations, epsilonDecay)\n",
    "graph_win_percentage(winrateTrain, \"Winrate: Training an AIPlayer vs. a RandomPlayer\")"
   ]
  },
  {
   "cell_type": "code",
   "execution_count": 11,
   "metadata": {
    "collapsed": false
   },
   "outputs": [
    {
     "name": "stdout",
     "output_type": "stream",
     "text": [
      "Testing AIPlayer vs. RandomPlayer\n",
      "Final Score:\tAI: 108 wins.\tRandom: 92 wins.\n",
      "Completed in 0.6109051704406738 seconds.\n",
      "\n",
      "Final Percent Win:  0.54\n"
     ]
    },
    {
     "data": {
      "image/png": "[encoded data removed]",
      "text/plain": [
       "<matplotlib.figure.Figure at 0x1ac2ac47358>"
      ]
     },
     "metadata": {},
     "output_type": "display_data"
    }
   ],
   "source": [
    "winrateTest = testVsRandom(p1, p2, testIterations)\n",
    "graph_win_percentage(winrateTest, \"Winrate: Testing an AIPlayer vs. a RandomPlayer\")"
   ]
  },
  {
   "cell_type": "markdown",
   "metadata": {
    "nbpresent": {
     "id": "16886ab7-3238-4f0b-ae49-02f6c8da43ac"
    }
   },
   "source": [
    "#### Obserations\n",
    "\n",
    "The data clearly shows that using reinforcement versus a random player will result in consistent wins. Does it though?"
   ]
  },
  {
   "cell_type": "markdown",
   "metadata": {
    "nbpresent": {
     "id": "ad6b9b50-b4ce-4204-a263-0597424ab1a5"
    }
   },
   "source": [
    "## Experiment 2\n",
    "\n",
    "We decided to increase the number of games played between the AI and the Random Player, and the AI against another AI. Iteration counts were multiplied by 10 compared to our control to see how quickly our AI could learn."
   ]
  },
  {
   "cell_type": "code",
   "execution_count": null,
   "metadata": {
    "collapsed": true,
    "nbpresent": {
     "id": "fe1d6dd9-b406-49a4-b351-b68bcf52a667"
    }
   },
   "outputs": [],
   "source": [
    "trainIterations = 20000\n",
    "randTestIterations = 2000\n",
    "aiTrainIterations = 20000\n",
    "aiTestIterations = 2000\n",
    "rho = 0.2\n",
    "initialEpsilon = 1.0\n",
    "epsilonDecay = 0.99\n",
    "seed1 = None\n",
    "seed2 = None\n",
    "\n",
    "p1 = players.AIPlayer(rho=rho, epsilon=initialEpsilon, seed=seed1)\n",
    "p2 = players.RandomPlayer(seed=None)"
   ]
  },
  {
   "cell_type": "code",
   "execution_count": null,
   "metadata": {
    "collapsed": false,
    "nbpresent": {
     "id": "cdb945c0-7fa4-4393-a8c5-23ed7d4fe0d7"
    }
   },
   "outputs": [],
   "source": [
    "winPercent1, winPercent2, winPercent3, winPercent4 = play(p1, p2)"
   ]
  },
  {
   "cell_type": "code",
   "execution_count": null,
   "metadata": {
    "collapsed": false,
    "nbpresent": {
     "id": "3207df74-c4fe-4992-8e73-7af39e82ef94"
    }
   },
   "outputs": [],
   "source": [
    "graph_win_percentage(winPercent1, \"Train vs. Random Wins\")"
   ]
  },
  {
   "cell_type": "code",
   "execution_count": null,
   "metadata": {
    "collapsed": false,
    "nbpresent": {
     "id": "4dd901f2-6daa-4624-b098-12bd03c9e024"
    }
   },
   "outputs": [],
   "source": [
    "graph_win_percentage(winPercent2, \"Test vs. Random Wins\")"
   ]
  },
  {
   "cell_type": "code",
   "execution_count": null,
   "metadata": {
    "collapsed": false,
    "nbpresent": {
     "id": "c582b548-6ddf-45db-a8cb-0a742e8dc1f2"
    }
   },
   "outputs": [],
   "source": [
    "graph_win_percentage(winPercent3, \"Train vs. Self Wins\")"
   ]
  },
  {
   "cell_type": "code",
   "execution_count": null,
   "metadata": {
    "collapsed": false,
    "nbpresent": {
     "id": "3becfeac-7719-4e97-bfba-6b8d800fac63"
    }
   },
   "outputs": [],
   "source": [
    "graph_win_percentage(winPercent4, \"Test vs. Self Wins\")"
   ]
  },
  {
   "cell_type": "markdown",
   "metadata": {
    "nbpresent": {
     "id": "19d1602e-dc88-44a0-b21b-09b2eaabbdb0"
    }
   },
   "source": [
    "#### Observations\n",
    "We noticed ..."
   ]
  },
  {
   "cell_type": "markdown",
   "metadata": {
    "nbpresent": {
     "id": "e2b31f83-3699-4977-aca0-825b4978536a"
    }
   },
   "source": [
    "# Experiment 3"
   ]
  },
  {
   "cell_type": "markdown",
   "metadata": {
    "nbpresent": {
     "id": "50ea3fb0-ed11-44c4-ada0-80b2b8c18281"
    }
   },
   "source": [
    "We wanted to see what would happen if we put an AI Reinforced player up against another AI Reinforced player."
   ]
  },
  {
   "cell_type": "code",
   "execution_count": null,
   "metadata": {
    "collapsed": true,
    "nbpresent": {
     "id": "1d5698dd-f814-4d0d-a7b9-2846d1036ca5"
    }
   },
   "outputs": [],
   "source": [
    "trainIterations = 2000\n",
    "randTestIterations = 200\n",
    "aiTrainIterations = 2000\n",
    "aiTestIterations = 200\n",
    "rho = 0.2\n",
    "initialEpsilon = 1.0\n",
    "epsilonDecay = 0.99\n",
    "seed1 = None\n",
    "seed2 = None\n",
    "\n",
    "p1 = players.AIPlayer(rho=rho, epsilon=initialEpsilon, seed=seed1)\n",
    "p2 = players.AIPlayer(rho=rho, epsilon=initialEpsilon, seed=seed2)"
   ]
  },
  {
   "cell_type": "code",
   "execution_count": null,
   "metadata": {
    "collapsed": false,
    "nbpresent": {
     "id": "8519dc70-ca9d-4605-bd93-887ac0dae7ca"
    }
   },
   "outputs": [],
   "source": [
    "winPercent1, winPercent2, winPercent3, winPercent4 = play(p1, p2)"
   ]
  },
  {
   "cell_type": "code",
   "execution_count": null,
   "metadata": {
    "collapsed": false,
    "nbpresent": {
     "id": "5b7e9085-fa51-411a-84b0-d623b341eb3e"
    }
   },
   "outputs": [],
   "source": [
    "graph_win_percentage(winPercent1, \"Train vs. Random Wins\")"
   ]
  },
  {
   "cell_type": "code",
   "execution_count": null,
   "metadata": {
    "collapsed": false,
    "nbpresent": {
     "id": "fe5c9344-1a24-40d0-9696-e83893391c38"
    }
   },
   "outputs": [],
   "source": [
    "graph_win_percentage(winPercent2, \"Test vs. Random Wins\")"
   ]
  },
  {
   "cell_type": "code",
   "execution_count": null,
   "metadata": {
    "collapsed": false,
    "nbpresent": {
     "id": "9108af01-dd4b-4231-b557-821533d27807"
    }
   },
   "outputs": [],
   "source": [
    "graph_win_percentage(winPercent3, \"Train vs. Self Wins\")"
   ]
  },
  {
   "cell_type": "code",
   "execution_count": null,
   "metadata": {
    "collapsed": false,
    "nbpresent": {
     "id": "a820957a-1702-48f1-9069-00d1137db67b"
    }
   },
   "outputs": [],
   "source": [
    "graph_win_percentage(winPercent4, \"Test vs. Self Wins\")"
   ]
  },
  {
   "cell_type": "markdown",
   "metadata": {
    "nbpresent": {
     "id": "fc578005-d344-4cc0-b5c7-f737a08b5cae"
    }
   },
   "source": [
    "#### Observations\n",
    "We noticed..."
   ]
  },
  {
   "cell_type": "markdown",
   "metadata": {
    "nbpresent": {
     "id": "fe158f1c-1b7c-403d-83e6-0136bb4c924c"
    }
   },
   "source": [
    "# Experiment 4"
   ]
  },
  {
   "cell_type": "markdown",
   "metadata": {
    "nbpresent": {
     "id": "7137c067-3058-415a-9cd5-af1ced9b92ab"
    }
   },
   "source": [
    "This is what we are doing..."
   ]
  },
  {
   "cell_type": "code",
   "execution_count": null,
   "metadata": {
    "collapsed": true,
    "nbpresent": {
     "id": "2a7f2cc8-1810-41bc-8f01-501999815177"
    }
   },
   "outputs": [],
   "source": [
    "trainIterations = 2000\n",
    "randTestIterations = 200\n",
    "aiTrainIterations = 2000\n",
    "aiTestIterations = 200\n",
    "rho = 0.2\n",
    "initialEpsilon = 1.0\n",
    "epsilonDecay = 0.99\n",
    "seed1 = None\n",
    "seed2 = None\n",
    "\n",
    "p1 = players.AIPlayer(rho=rho, epsilon=initialEpsilon, seed=seed1)\n",
    "p2 = players.RandomPlayer(seed=None)"
   ]
  },
  {
   "cell_type": "code",
   "execution_count": null,
   "metadata": {
    "collapsed": false,
    "nbpresent": {
     "id": "84825925-7a6e-438e-b341-1f70bbe62427"
    }
   },
   "outputs": [],
   "source": [
    "winPercent1, winPercent2, winPercent3, winPercent4 = play(p1, p2)"
   ]
  },
  {
   "cell_type": "code",
   "execution_count": null,
   "metadata": {
    "collapsed": false,
    "nbpresent": {
     "id": "8078f250-4fb7-462a-8d58-a1932df3799c"
    }
   },
   "outputs": [],
   "source": [
    "graph_win_percentage(winPercent1, \"Train vs. Random Wins\")"
   ]
  },
  {
   "cell_type": "code",
   "execution_count": null,
   "metadata": {
    "collapsed": true,
    "nbpresent": {
     "id": "29da0bc7-4738-462d-9c28-ef877d1b0855"
    }
   },
   "outputs": [],
   "source": [
    "graph_win_percentage(winPercent2, \"Test vs. Random Wins\")"
   ]
  },
  {
   "cell_type": "code",
   "execution_count": null,
   "metadata": {
    "collapsed": true,
    "nbpresent": {
     "id": "f80248c3-0256-48bf-a05b-cf7757acfef0"
    }
   },
   "outputs": [],
   "source": [
    "graph_win_percentage(winPercent3, \"Train vs. Self Wins\")"
   ]
  },
  {
   "cell_type": "code",
   "execution_count": null,
   "metadata": {
    "collapsed": true,
    "nbpresent": {
     "id": "652b385a-440c-466f-bbd0-9e70c23f30cf"
    }
   },
   "outputs": [],
   "source": [
    "graph_win_percentage(winPercent4, \"Test vs. Self Wins\")"
   ]
  },
  {
   "cell_type": "markdown",
   "metadata": {
    "nbpresent": {
     "id": "114b9721-f1db-464b-bf28-c835ec56cbe9"
    }
   },
   "source": [
    "#### Ovservations\n",
    "We noticed..."
   ]
  },
  {
   "cell_type": "markdown",
   "metadata": {
    "nbpresent": {
     "id": "52888a01-8c87-42fb-ac5f-6401eb9379f8"
    }
   },
   "source": [
    "# For Making Diagrams (REMOVE BEFORE SUBMISSION)"
   ]
  },
  {
   "cell_type": "code",
   "execution_count": null,
   "metadata": {
    "collapsed": false,
    "nbpresent": {
     "id": "15aefb39-a9a3-4a32-8327-f4c561c1dfd1"
    }
   },
   "outputs": [],
   "source": [
    "b = game.Game.Board()\n",
    "\n",
    "b[0, 0] = True\n",
    "\n",
    "b[1, 0] = True\n",
    "b[1, 1] = True\n",
    "\n",
    "b[2, 0] = True\n",
    "\n",
    "b[3, 0] = True\n",
    "b[3, 1] = True\n",
    "\n",
    "b[4, 0] = True\n",
    "\n",
    "b[5, 0] = True\n",
    "b[5, 1] = True\n",
    "\n",
    "b[6, 0] = True\n",
    "b[6, 1] = True\n",
    "b[6, 2] = True\n",
    "\n",
    "b[7, 0] = True\n",
    "b[7, 1] = True\n",
    "b[7, 2] = True\n",
    "b[7, 3] = True\n",
    "\n",
    "b[8, 0] = True\n",
    "b[8, 1] = True\n",
    "b[8, 2] = True\n",
    "\n",
    "b[9, 0] = True\n",
    "b[9, 1] = True\n",
    "b[9, 2] = True\n",
    "b[9, 3] = True\n",
    "\n",
    "b[10, 0] = True\n",
    "b[10, 1] = True\n",
    "b[10, 2] = True\n",
    "\n",
    "graph_board(b)"
   ]
  },
  {
   "cell_type": "markdown",
   "metadata": {
    "nbpresent": {
     "id": "887347f3-66bc-4adf-aaa2-37d8226190b5"
    }
   },
   "source": [
    "# Conclusion"
   ]
  },
  {
   "cell_type": "markdown",
   "metadata": {
    "nbpresent": {
     "id": "869dc1df-5150-4766-8b48-d8776e830853"
    }
   },
   "source": [
    "The data shows ..."
   ]
  }
 ],
 "metadata": {
  "anaconda-cloud": {},
  "kernelspec": {
   "display_name": "Python [conda root]",
   "language": "python",
   "name": "conda-root-py"
  },
  "language_info": {
   "codemirror_mode": {
    "name": "ipython",
    "version": 3
   },
   "file_extension": ".py",
   "mimetype": "text/x-python",
   "name": "python",
   "nbconvert_exporter": "python",
   "pygments_lexer": "ipython3",
   "version": "3.5.2"
  },
  "nbpresent": {
   "slides": {},
   "themes": {}
  }
 },
 "nbformat": 4,
 "nbformat_minor": 1
}
