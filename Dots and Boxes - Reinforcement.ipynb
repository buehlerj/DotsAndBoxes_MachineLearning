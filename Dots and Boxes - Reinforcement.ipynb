{
 "cells": [
  {
   "cell_type": "code",
   "execution_count": 2,
   "metadata": {
    "collapsed": true
   },
   "outputs": [],
   "source": [
    "import game\n",
    "import players\n",
    "import time"
   ]
  },
  {
   "cell_type": "code",
   "execution_count": 11,
   "metadata": {
    "collapsed": true
   },
   "outputs": [],
   "source": [
    "def play(p1, p2):\n",
    "    aiWins = 0\n",
    "    for i in range(trainIterations):\n",
    "        g = game.Game()\n",
    "        if i % 2 is 0:\n",
    "            g.play(p1, p2, printturns=printturns)\n",
    "        else:\n",
    "            g.play(p2, p1, printturns=printturns)\n",
    "        if g.score.index(max(g.score)) is p1.playernum:\n",
    "            aiWins += 1\n",
    "        p1.epsilon *= epsilonDecay\n",
    "    print(\"Train vs. Random:\\t{} wins out of {}\".format(aiWins, trainIterations))\n",
    "\n",
    "    aiWins = 0\n",
    "    p1.train = False\n",
    "    for i in range(randTestIterations):\n",
    "        g = game.Game()\n",
    "        if i % 2 is 0:\n",
    "            g.play(p1, p2, printturns=printturns)\n",
    "        else:\n",
    "            g.play(p2, p1, printturns=printturns)\n",
    "        if g.score.index(max(g.score)) is p1.playernum:\n",
    "            aiWins += 1\n",
    "    print(\"Test vs. Random:\\t{} wins out of {}\".format(aiWins, randTestIterations))\n",
    "\n",
    "    print(\"--------------------------------------------\")\n",
    "\n",
    "    wins = [0, 0]\n",
    "    p1.train = True\n",
    "    p1.epsilon = initialEpsilon\n",
    "    p2 = players.AIPlayer(rho=rho, epsilon=initialEpsilon, seed=seed2)\n",
    "    p2.Q = p1.Q\n",
    "    for i in range(aiTrainIterations):\n",
    "        g = game.Game()\n",
    "        g.play(p1, p2, printturns=False)\n",
    "        wins[g.score.index(max(g.score))] += 1\n",
    "        p1.epsilon *= epsilonDecay\n",
    "        p2.epsilon *= epsilonDecay\n",
    "    print(\"Train vs. Self:\\t{} wins to {} wins\".format(wins[0], wins[1]))\n",
    "\n",
    "    wins = [0, 0]\n",
    "    p1.train = False\n",
    "    p2.train = False\n",
    "    for i in range(aiTestIterations):\n",
    "        g = game.Game()\n",
    "        g.play(p1, p2, printturns=False)\n",
    "        wins[g.score.index(max(g.score))] += 1\n",
    "    print(\"Test vs. Self:\\t{} wins to {} wins\".format(wins[0], wins[1]))"
   ]
  },
  {
   "cell_type": "markdown",
   "metadata": {},
   "source": [
    "# Observation 1"
   ]
  },
  {
   "cell_type": "code",
   "execution_count": 7,
   "metadata": {
    "collapsed": true
   },
   "outputs": [],
   "source": [
    "rho = rho = 0.2\n",
    "initialEpsilon = 1.0\n",
    "epsilonDecay = 0.99\n",
    "seed1 = None\n",
    "seed2 = None\n",
    "\n",
    "printturns = False\n",
    "\n",
    "trainIterations = 2000\n",
    "randTestIterations = 200\n",
    "aiTrainIterations = 2000\n",
    "aiTestIterations = 200\n",
    "rho = 0.2\n",
    "initialEpsilon = 1.0\n",
    "epsilonDecay = 0.99\n",
    "seed1 = None\n",
    "seed2 = None\n",
    "\n",
    "trainIterations = 2000\n",
    "randTestIterations = 200\n",
    "aiTrainIterations = 2000\n",
    "aiTestIterations = 200\n",
    "\n",
    "p1 = players.AIPlayer(rho=rho, epsilon=initialEpsilon, seed=seed1)\n",
    "p2 = players.RandomPlayer(seed=None)"
   ]
  },
  {
   "cell_type": "code",
   "execution_count": 12,
   "metadata": {
    "collapsed": false
   },
   "outputs": [
    {
     "name": "stdout",
     "output_type": "stream",
     "text": [
      "Train vs. Random:\t1996 wins out of 2000\n",
      "Test vs. Random:\t199 wins out of 200\n",
      "--------------------------------------------\n",
      "Train vs. Self:\t212 wins to 1788 wins\n",
      "Test vs. Self:\t0 wins to 200 wins\n"
     ]
    }
   ],
   "source": [
    "play(p1, p2)"
   ]
  },
  {
   "cell_type": "markdown",
   "metadata": {},
   "source": [
    "# Observation 2"
   ]
  },
  {
   "cell_type": "markdown",
   "metadata": {},
   "source": [
    "# Observation 3"
   ]
  },
  {
   "cell_type": "markdown",
   "metadata": {},
   "source": [
    "# Observation 4"
   ]
  }
 ],
 "metadata": {
  "anaconda-cloud": {},
  "kernelspec": {
   "display_name": "Python [conda root]",
   "language": "python",
   "name": "conda-root-py"
  },
  "language_info": {
   "codemirror_mode": {
    "name": "ipython",
    "version": 3
   },
   "file_extension": ".py",
   "mimetype": "text/x-python",
   "name": "python",
   "nbconvert_exporter": "python",
   "pygments_lexer": "ipython3",
   "version": "3.5.2"
  }
 },
 "nbformat": 4,
 "nbformat_minor": 1
}
