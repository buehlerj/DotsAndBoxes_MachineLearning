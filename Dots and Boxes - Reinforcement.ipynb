{
 "cells": [
  {
   "cell_type": "markdown",
   "metadata": {
    "nbpresent": {
     "id": "4a1331e4-b774-40b6-bb49-c16ea9589417"
    }
   },
   "source": [
    "# Dots and Boxes\n",
    "\n",
    "*Jeffrey Buehler & Bobby Signor*\n",
    "$\\newcommand{\\xv}{\\mathbf{x}}\n",
    "\\newcommand{\\Xv}{\\mathbf{X}}\n",
    "\\newcommand{\\yv}{\\mathbf{y}}\n",
    "\\newcommand{\\zv}{\\mathbf{z}}\n",
    "\\newcommand{\\av}{\\mathbf{a}}\n",
    "\\newcommand{\\Wv}{\\mathbf{W}}\n",
    "\\newcommand{\\wv}{\\mathbf{w}}\n",
    "\\newcommand{\\tv}{\\mathbf{t}}\n",
    "\\newcommand{\\Tv}{\\mathbf{T}}\n",
    "\\newcommand{\\muv}{\\boldsymbol{\\mu}}\n",
    "\\newcommand{\\sigmav}{\\boldsymbol{\\sigma}}\n",
    "\\newcommand{\\phiv}{\\boldsymbol{\\phi}}\n",
    "\\newcommand{\\Phiv}{\\boldsymbol{\\Phi}}\n",
    "\\newcommand{\\Sigmav}{\\boldsymbol{\\Sigma}}\n",
    "\\newcommand{\\Lambdav}{\\boldsymbol{\\Lambda}}\n",
    "\\newcommand{\\half}{\\frac{1}{2}}\n",
    "\\newcommand{\\argmax}[1]{\\underset{#1}{\\operatorname{argmax}}}\n",
    "\\newcommand{\\argmin}[1]{\\underset{#1}{\\operatorname{argmin}}}$"
   ]
  },
  {
   "cell_type": "markdown",
   "metadata": {},
   "source": [
    "## Background\n",
    "\n",
    "Our goal for this project was to create an AI capable of beating a random opponent at a game called Dots and Boxes at least 80% of the time, using reinforcement learning techniques."
   ]
  },
  {
   "cell_type": "markdown",
   "metadata": {
    "nbpresent": {
     "id": "9f03bccb-0272-46b0-becd-425ea029f3f7"
    }
   },
   "source": [
    "### The Game\n",
    "\n",
    "Dots and Boxes is a simple game for two players. The gameboard consists of a grid of an abitrary size. For this project, we chose to fix the size of the board to 5 x 5 boxes.\n",
    "<figure>\n",
    "    <img src=\"img/0-empty.png\">\n",
    "    <figcaption>\n",
    "        <div style=\"text-align: center\">**Fig. 1.1:** An empty 5 x 5 board.</div>\n",
    "    </figcaption>\n",
    "</figure>\n",
    "\n",
    "Each player switches off taking turns. A turn starts with the player drawing a line between two adjacent unconnected dots. If the new line the player draws does not complete a 1 x 1 square, then that player's turn is over and it is the other player's turn.\n",
    "<figure>\n",
    "    <img src=\"img/fig2.png\">\n",
    "    <figcaption>\n",
    "        <div style=\"text-align: center\">**Fig. 1.2:** An example of a player taking a turn and not completing a box.</div>\n",
    "    </figcaption>\n",
    "</figure>\n",
    "\n",
    "However, if the player draws a line that does complete a 1 x 1 square, the player is rewarded a point for that box and gets to draw another line, with the above rule still in place.\n",
    "<figure>\n",
    "    <img src=\"img/fig3.png\">\n",
    "    <figcaption>\n",
    "        <div style=\"text-align: center\">**Fig. 1.3:** An example of a player drawing a line, completing a box, and then drawing another line.</div>\n",
    "    </figcaption>\n",
    "</figure>\n",
    "\n",
    "The game ends when it is no longer possible to draw another line. The winner is determined by whoever has the most boxes at the end of the game. In the example game shown in Figure 1.4, player X would be the winner.\n",
    "<figure>\n",
    "    <img src=\"img/fig4.png\">\n",
    "    <figcaption>\n",
    "        <div style=\"text-align: center\">**Fig. 1.4:** An example of a board after a game's been completed. Here, player X has 16 points, while player O has 9.</div>\n",
    "    </figcaption>\n",
    "</figure>\n",
    "\n",
    "#### A Simple Strategy\n",
    "\n",
    "While the objective of the game is to score more points than your opponent, it is not always wise to complete boxes as quickly as possible. One strategy that is quickly learned by human opponents is creating paths that can eventually be completed without giving your opponent a chance to counter, as shown in Figure 1.3. When used correctly, this strategy maximizes the number of points earned by reducing the number of opportunities your opponent has to draw lines. However, this must be done with care, since your opponent may also take the opportunity to complete your path and steal those points from you.\n",
    "<figure>\n",
    "    <img src=\"img/fig5.png\">\n",
    "    <figcaption>\n",
    "        <div style=\"text-align: center\">**Fig. 1.5:** An example of a board setup that would net a single player 9 points before the other player can take their turn.</div>\n",
    "    </figcaption>\n",
    "</figure>"
   ]
  },
  {
   "cell_type": "markdown",
   "metadata": {
    "nbpresent": {
     "id": "7e41a529-91eb-4813-a621-90eccef0e207"
    }
   },
   "source": [
    "## Implementation\n",
    "\n",
    "### Game\n",
    "\n",
    "The Game object contains the complete state of the game and the logic required to correctly play it. Initializing it and starting a new game is as follows:\n",
    "\n",
    "```python\n",
    "g = Game()\n",
    "g.play(player1, player2)\n",
    "``` \n",
    "\n",
    "### Players\n",
    "\n",
    "We have created 2 different kinds of players for our game:\n",
    "\n",
    "1. **Random Player:** This player chooses moves simply by randomly choosing any of the available moves at random each time it's asked. Its play does not improve as it plays more games.\n",
    " \n",
    "2. **AI Player:** This player uses reinforcement learning techniques (see below) to learn which move given a board state is most likely to result in a win, and choosing that one. We can also have it make some of its moves randomly for training by specifying the probability it takes a random move in a parameter called epsilon. While training, we start epsilon at 1 and steadily decay that number as the AI Player is exposed to more board states and more games."
   ]
  },
  {
   "cell_type": "markdown",
   "metadata": {
    "nbpresent": {
     "id": "bbbef074-015e-4ebb-9cdf-7a39c8883c7e"
    }
   },
   "source": [
    "## The Machine Learning Method: Reinforcement Programming\n",
    "\n",
    "### Reinforcement Learning\n",
    "\n",
    "Reinforcement learning is a method of machine learning used to teach a program to give correct output given input using reward/punishment. The behavior of a reinforced program is based on the psychological response of humans trying to suceed at a task. One way to picture this is to imagine a child being taught how to read by a grade-school teacher. They are presented with simple words and are asked to sound out the word. If presented incorrectly, the teacher will inform the child they were wrong and give feedback on how to improve. If the child pronounces the word correctly, they are given positive feedback, and sometimes some sort of reward. Eventually, the child will learn that certain letters interact with others in certian ways because they were given positive reinforcement when they did something correct.\n",
    "\n",
    "### Applied to AI Player\n",
    "\n",
    "We will be applying reinforcement learning to our AI Player. It will be reinforced depending on the moves it makes that end up winning a game. Positive reinforcement will be given whenever the AI is able to win a game. The decisions the AI makes will be determined on past experience of winning moves.\n",
    "\n",
    "### Hypothesis\n",
    "\n",
    "We believe if we train the AI enough, it will be able to defeat a random opponent easily. If we train it against another AI, it will be able to learn more sensible moves to make. We also believe that if trained against a human opponent, it will eventually learn the strategies talked about earlier that humans are able to do."
   ]
  },
  {
   "cell_type": "code",
   "execution_count": 1,
   "metadata": {
    "collapsed": false,
    "nbpresent": {
     "id": "8e058acd-0039-4fe8-98f4-1861e851a656"
    }
   },
   "outputs": [
    {
     "name": "stdout",
     "output_type": "stream",
     "text": [
      "Populating the interactive namespace from numpy and matplotlib\n"
     ]
    }
   ],
   "source": [
    "# External Game & Player Code\n",
    "import game\n",
    "import players\n",
    "\n",
    "# Graphing\n",
    "%pylab inline\n",
    "import matplotlib.pyplot as plt\n",
    "from IPython.display import display, clear_output\n",
    "import IPython.display as ipd\n",
    "\n",
    "# Misc.\n",
    "import time\n",
    "import copy"
   ]
  },
  {
   "cell_type": "markdown",
   "metadata": {
    "nbpresent": {
     "id": "7316d4a6-9634-4f61-b079-9b3a25c7c0bc"
    }
   },
   "source": [
    "## Graphing Functions\n",
    "\n",
    "The folliowing functions allow us to visually show our results."
   ]
  },
  {
   "cell_type": "code",
   "execution_count": 2,
   "metadata": {
    "collapsed": false,
    "nbpresent": {
     "id": "e40e19e4-832a-4046-9890-e1187d0b725a"
    },
    "scrolled": false
   },
   "outputs": [],
   "source": [
    "def graph_all(board):\n",
    "    graph_board(board)\n",
    "\n",
    "def graph_epsilon():\n",
    "    return 0\n",
    "\n",
    "def graph_board(board):\n",
    "    plt.plot(board.shape[1] - 1, board.shape[1] - 1)\n",
    "    plt.xlim(-1,board.shape[1])\n",
    "    plt.ylim(-1,board.shape[1])\n",
    "    plt.gca().invert_yaxis()\n",
    "    plt.axis('off')\n",
    "    plt.gca().axes.get_xaxis().set_visible(False)\n",
    "    plt.gca().axes.get_yaxis().set_visible(False)\n",
    "    \n",
    "    for r in range(board.shape[0]):\n",
    "        for c in range(board.shape[1]):\n",
    "            x = None\n",
    "            if board[r, c] == True:\n",
    "                if r % 2 == 0:\n",
    "                    if c < 5:\n",
    "                        x, y = [c, c + 1], [int(r / 2), int(r / 2)]\n",
    "                else:\n",
    "                    x, y = [c, c], [int(r / 2), int(r / 2) + 1]\n",
    "                if x is not None:\n",
    "                    plt.plot(x, y, color=\"#000000\")\n",
    "    \n",
    "    for i in range(board.shape[1]):\n",
    "        for j in range(board.shape[1]):\n",
    "            plt.scatter(i, j)\n",
    "\n",
    "def graph_win_percentage(winPercent, graphTitle):\n",
    "    pointsToPlotPercent = .01\n",
    "    frames = int(len(winPercent) * pointsToPlotPercent)\n",
    "    for key, value in winPercent.items():\n",
    "        if frames is 0:\n",
    "            plt.scatter(key, value, marker='.')\n",
    "        elif (key % frames == 0):\n",
    "            plt.scatter(key, value, marker='.')\n",
    "    plt.xlim(0, len(winPercent))\n",
    "    plt.ylim(0, 1)\n",
    "    x, y = [0, len(winPercent)], [.5, .5]\n",
    "    plt.plot(x, y, color=\"r\")\n",
    "    xlabel('Games')\n",
    "    ylabel('Win (%)')\n",
    "    title(graphTitle)\n",
    "    print(\"Final Win Rate: \", winPercent[len(winPercent) - 1])"
   ]
  },
  {
   "cell_type": "markdown",
   "metadata": {},
   "source": [
    "## Control: RandomPlayer vs. RandomPlayer\n",
    "\n",
    "For our control, we pit 2 RandomPlayers against each other to see the results and make sure that there's no advantage inherent advantage that we haven't forseen (such as first move advantage)."
   ]
  },
  {
   "cell_type": "code",
   "execution_count": 3,
   "metadata": {
    "collapsed": false,
    "nbpresent": {
     "id": "aa0ef74e-7908-4611-9c78-30677e93f2ef"
    },
    "scrolled": false
   },
   "outputs": [
    {
     "name": "stdout",
     "output_type": "stream",
     "text": [
      "Random vs. Random: 1001 wins to 999 wins (2000 games total).\n",
      "Took 3.2265446186065674 seconds.\n",
      "Final Win Rate:  0.5005\n"
     ]
    },
    {
     "data": {
      "image/png": "[encoded data removed]",
      "text/plain": [
       "<matplotlib.figure.Figure at 0x1d5b12232b0>"
      ]
     },
     "metadata": {},
     "output_type": "display_data"
    }
   ],
   "source": [
    "# Random vs. Random\n",
    "chaosIterations = 2000\n",
    "start = time.time()\n",
    "wins = [0, 0]\n",
    "winRecordTracker = {}\n",
    "p1 = players.RandomPlayer()\n",
    "p2 = players.RandomPlayer()\n",
    "\n",
    "for i in range(chaosIterations):\n",
    "    g = game.Game()\n",
    "    g.play(p1, p2)\n",
    "    wins[g.score.index(max(g.score))] += 1\n",
    "    winRecordTracker[i] = wins[0] / (i + 1)\n",
    "\n",
    "print(\"Random vs. Random: {} wins to {} wins ({} games total).\".format(wins[0], wins[1], chaosIterations))\n",
    "print(\"Took\", time.time() - start, \"seconds.\")\n",
    "graph_win_percentage(winRecordTracker, \"Win Rate: RandomPlayer vs. RandomPlayer\")"
   ]
  },
  {
   "cell_type": "markdown",
   "metadata": {
    "nbpresent": {
     "id": "5e82d6cb-49e5-433d-ac64-39411d847123"
    }
   },
   "source": [
    "#### Observations\n",
    "\n",
    "We can see that win percentages remain roughly around 50%, which was expected when two players simply choosing random moves go against each other. This indicates that we were correct in assuming that there aren't any outside factors that impact the result."
   ]
  },
  {
   "cell_type": "markdown",
   "metadata": {},
   "source": [
    "## Experiments\n",
    "\n",
    "### Helper Functions\n",
    "\n",
    "To make it easier to perform our experiments, we made several helper functions that we could reuse across multiple tests. The first 2 are functions that allow us to easily train and test an AIPlayer against a RandomPlayer."
   ]
  },
  {
   "cell_type": "code",
   "execution_count": 4,
   "metadata": {
    "collapsed": true
   },
   "outputs": [],
   "source": [
    "def trainVsRandom(aiPlayer, randPlayer, iterations, epsilonDecay):\n",
    "    # Initialize Variables\n",
    "    start = time.time()\n",
    "    aiWins = 0\n",
    "    winPercent = {}\n",
    "    # Configure AIPlayer\n",
    "    aiPlayer.train = True\n",
    "    for i in range(iterations):\n",
    "        g = game.Game()\n",
    "        if i % 2 is 0:\n",
    "            g.play(aiPlayer, randPlayer)\n",
    "        else:\n",
    "            g.play(randPlayer, aiPlayer)\n",
    "        if g.score.index(max(g.score)) is aiPlayer.playernum:\n",
    "            aiWins += 1\n",
    "        winPercent[i] = aiWins / (i + 1)\n",
    "        aiPlayer.epsilon *= epsilonDecay\n",
    "    print(\"Training AIPlayer vs. RandomPlayer\")\n",
    "    print(\"Final Score:\\tAI: {} wins.\\tRandom: {} wins.\".format(aiWins, iterations - aiWins))\n",
    "    print(\"Completed in {} seconds.\\n\".format(time.time() - start))\n",
    "    return winPercent\n",
    "\n",
    "def testVsRandom(aiPlayer, randPlayer, iterations):\n",
    "    # Initialize Variables\n",
    "    start = time.time()\n",
    "    aiWins = 0\n",
    "    winPercent = {}\n",
    "    # Configure AIPlayer\n",
    "    aiPlayer.train = False\n",
    "    for i in range(iterations):\n",
    "        g = game.Game()\n",
    "        if i % 2 is 0:\n",
    "            g.play(aiPlayer, randPlayer)\n",
    "        else:\n",
    "            g.play(aiPlayer, randPlayer)\n",
    "        if g.score.index(max(g.score)) is aiPlayer.playernum:\n",
    "            aiWins += 1\n",
    "        winPercent[i] = aiWins / (i + 1)\n",
    "    print(\"Testing AIPlayer vs. RandomPlayer\")\n",
    "    print(\"Final Score:\\tAI: {} wins.\\tRandom: {} wins.\".format(aiWins, iterations - aiWins))\n",
    "    print(\"Completed in {} seconds.\\n\".format(time.time() - start))\n",
    "    return winPercent"
   ]
  },
  {
   "cell_type": "markdown",
   "metadata": {},
   "source": [
    "The last 2 functions allow us to easily train and test AIPlayers against each other."
   ]
  },
  {
   "cell_type": "code",
   "execution_count": 5,
   "metadata": {
    "collapsed": true
   },
   "outputs": [],
   "source": [
    "def trainVsAi(ai1, ai2, iterations, epsilonDecay):\n",
    "    # Initialize Variables\n",
    "    start = time.time()\n",
    "    ai1Wins = 0\n",
    "    winPercent = {}\n",
    "    # Configure AIPlayers\n",
    "    ai1.train = True\n",
    "    ai2.train = True\n",
    "    for i in range(iterations):\n",
    "        g = game.Game()\n",
    "        if i % 2 is 0:\n",
    "            g.play(ai1, ai2)\n",
    "        else:\n",
    "            g.play(ai2, ai1)\n",
    "        if g.score.index(max(g.score)) is ai1.playernum:\n",
    "            ai1Wins += 1\n",
    "        p1.epsilon *= epsilonDecay\n",
    "        p2.epsilon *= epsilonDecay\n",
    "        winPercent[i] = ai1Wins / (i + 1)\n",
    "    print(\"Training AIPlayer vs. AIPlayer\")\n",
    "    print(\"Final Score:\\tAI: {} wins.\\tRandom: {} wins.\".format(aiWins, iterations - aiWins))\n",
    "    print(\"Completed in {} seconds.\\n\".format(time.time() - start))\n",
    "    return winPercent\n",
    "\n",
    "def testVsAi(ai1, ai2, iterations):\n",
    "    start = time.time()\n",
    "    ai1.train = False\n",
    "    ai2.train = False\n",
    "    ai1Wins = 0\n",
    "    winPercent = {}\n",
    "    for i in range(iterations):\n",
    "        g = game.Game()\n",
    "        if i % 2 is 0:\n",
    "            g.play(ai1, ai2)\n",
    "        else:\n",
    "            g.play(ai2, ai1)\n",
    "        if g.score.index(max(g.score)) is ai1.playernum:\n",
    "            ai1Wins += 1\n",
    "        winPercent[i] = ai1Wins / (i + 1)\n",
    "    print(\"Testing AIPlayer vs. AIPlayer\")\n",
    "    print(\"Final Score:\\tAI: {} wins.\\tRandom: {} wins.\".format(aiWins, iterations - aiWins))\n",
    "    print(\"Completed in {} seconds.\\n\".format(time.time() - start))\n",
    "    return winPercent"
   ]
  },
  {
   "cell_type": "markdown",
   "metadata": {
    "nbpresent": {
     "id": "5b4de502-4549-4419-bea4-2163e10a2094"
    }
   },
   "source": [
    "### Experiment 1: Learning from Chaos\n",
    "\n",
    "#### Description\n",
    "Our first test is to simply train an AIPlayer against a RandomPlayer over 2,000 iterations, and then see how well that AIPlayer performs against the same opponent after training.\n",
    "\n",
    "#### Hypothesis\n",
    "We believe the AIPlayer will quickly learn how to play against the RandomPlayer after a little while, eventually having a win rate of over 80% after 2000 iterations. There will still be random instances of losses, even after a few thousand games played, but the AIPlayer will be able to account for this in later games."
   ]
  },
  {
   "cell_type": "code",
   "execution_count": 6,
   "metadata": {
    "collapsed": false,
    "nbpresent": {
     "id": "5e59690f-d041-4130-8fbf-7fcb756b705a"
    }
   },
   "outputs": [],
   "source": [
    "trainIterations = 2000\n",
    "testIterations = 200\n",
    "rho = 0.2\n",
    "initialEpsilon = 1.0\n",
    "epsilonDecay = 0.99\n",
    "\n",
    "p1 = players.AIPlayer(rho=rho, epsilon=initialEpsilon)\n",
    "p2 = players.RandomPlayer()"
   ]
  },
  {
   "cell_type": "code",
   "execution_count": 7,
   "metadata": {
    "collapsed": false
   },
   "outputs": [
    {
     "name": "stdout",
     "output_type": "stream",
     "text": [
      "Training AIPlayer vs. RandomPlayer\n",
      "Final Score:\tAI: 1957 wins.\tRandom: 43 wins.\n",
      "Completed in 6.031030654907227 seconds.\n",
      "\n",
      "Final Win Rate:  0.9785\n"
     ]
    },
    {
     "data": {
      "image/png": "[encoded data removed]",
      "text/plain": [
       "<matplotlib.figure.Figure at 0x1d5b0b5ccc0>"
      ]
     },
     "metadata": {},
     "output_type": "display_data"
    }
   ],
   "source": [
    "winrateTrain = trainVsRandom(p1, p2, trainIterations, epsilonDecay)\n",
    "graph_win_percentage(winrateTrain, \"Win Rate: Training an AIPlayer vs. a RandomPlayer\")"
   ]
  },
  {
   "cell_type": "code",
   "execution_count": 8,
   "metadata": {
    "collapsed": false
   },
   "outputs": [
    {
     "name": "stdout",
     "output_type": "stream",
     "text": [
      "Testing AIPlayer vs. RandomPlayer\n",
      "Final Score:\tAI: 200 wins.\tRandom: 0 wins.\n",
      "Completed in 0.5692107677459717 seconds.\n",
      "\n",
      "Final Win Rate:  1.0\n"
     ]
    },
    {
     "data": {
      "image/png": "[encoded data removed]",
      "text/plain": [
       "<matplotlib.figure.Figure at 0x1d5b0b5cd30>"
      ]
     },
     "metadata": {},
     "output_type": "display_data"
    }
   ],
   "source": [
    "p1.epsilon = 0.01\n",
    "winrateTest = testVsRandom(p1, p2, testIterations)\n",
    "graph_win_percentage(winrateTest, \"Win Rate: Testing an AIPlayer vs. a RandomPlayer\")"
   ]
  },
  {
   "cell_type": "markdown",
   "metadata": {
    "nbpresent": {
     "id": "16886ab7-3238-4f0b-ae49-02f6c8da43ac"
    }
   },
   "source": [
    "#### Obserations\n",
    "\n",
    "The data clearly shows that using reinforcement versus a random player will result in consistent wins after only a few hundred games played using a decaying epsilon rate. We were able to see that training the AIPlayer to learn how to win Dots and Boxes resulted in wins as the AIPlayer grew wiser.\n",
    "\n",
    "Applying the information AIPlayer learned by training against RandomPlayer, the AI was able to win almost every single game (if not all) against RandomPlayer. This is very impressive to see how reliable AIPlayer is after training it for 2000 games."
   ]
  },
  {
   "cell_type": "markdown",
   "metadata": {
    "nbpresent": {
     "id": "ad6b9b50-b4ce-4204-a263-0597424ab1a5"
    }
   },
   "source": [
    "### Experiment 2: The Same, but More\n",
    "\n",
    "#### Description\n",
    "We decided to increase the number of training games played between the AIPlayer and the RandomPlayer to see if that had any impact on the final win rate, the concern being that we would see adverse affects from overtraining. Training iteration counts were multiplied by 10 compared to experiment 1. Nothing else was changed, aside from random number generator seeds.\n",
    "\n",
    "#### Hypothesis\n",
    "AIPlayer will learn at the same rate as it did before with less training iterations, and will eventually hit a max win rate, where it may taper up or down due to random chance. This may result in overtrained results and possible losses in game."
   ]
  },
  {
   "cell_type": "code",
   "execution_count": 9,
   "metadata": {
    "collapsed": true,
    "nbpresent": {
     "id": "fe1d6dd9-b406-49a4-b351-b68bcf52a667"
    }
   },
   "outputs": [],
   "source": [
    "trainIterations = 20000\n",
    "testIterations = 200\n",
    "rho = 0.2\n",
    "initialEpsilon = 1.0\n",
    "epsilonDecay = 0.99\n",
    "\n",
    "p1 = players.AIPlayer(rho=rho, epsilon=initialEpsilon)\n",
    "p2 = players.RandomPlayer()"
   ]
  },
  {
   "cell_type": "code",
   "execution_count": 10,
   "metadata": {
    "collapsed": false
   },
   "outputs": [
    {
     "name": "stdout",
     "output_type": "stream",
     "text": [
      "Training AIPlayer vs. RandomPlayer\n",
      "Final Score:\tAI: 19919 wins.\tRandom: 81 wins.\n",
      "Completed in 63.61847138404846 seconds.\n",
      "\n",
      "Final Win Rate:  0.99595\n"
     ]
    },
    {
     "data": {
      "image/png": "[encoded data removed]",
      "text/plain": [
       "<matplotlib.figure.Figure at 0x1d5bb2bd518>"
      ]
     },
     "metadata": {},
     "output_type": "display_data"
    }
   ],
   "source": [
    "winrateTrain = trainVsRandom(p1, p2, trainIterations, epsilonDecay)\n",
    "graph_win_percentage(winrateTrain, \"Win Rate: Training an AIPlayer vs. a RandomPlayer\")"
   ]
  },
  {
   "cell_type": "code",
   "execution_count": 11,
   "metadata": {
    "collapsed": false
   },
   "outputs": [
    {
     "name": "stdout",
     "output_type": "stream",
     "text": [
      "Testing AIPlayer vs. RandomPlayer\n",
      "Final Score:\tAI: 200 wins.\tRandom: 0 wins.\n",
      "Completed in 0.5561952590942383 seconds.\n",
      "\n",
      "Final Win Rate:  1.0\n"
     ]
    },
    {
     "data": {
      "image/png": "[encoded data removed]",
      "text/plain": [
       "<matplotlib.figure.Figure at 0x1d5bb2688d0>"
      ]
     },
     "metadata": {},
     "output_type": "display_data"
    }
   ],
   "source": [
    "winrateTest = testVsRandom(p1, p2, testIterations)\n",
    "graph_win_percentage(winrateTest, \"Win Rate: Testing an AIPlayer vs. a RandomPlayer\")"
   ]
  },
  {
   "cell_type": "markdown",
   "metadata": {
    "nbpresent": {
     "id": "19d1602e-dc88-44a0-b21b-09b2eaabbdb0"
    }
   },
   "source": [
    "#### Observations\n",
    "\n",
    "Here, we noticed that, in this case, training over 20,000 iterations did not give us any adverse affects related to overtraining. However, since we already started at a win rate of 99.5%, going up to 100% is not a significant change."
   ]
  },
  {
   "cell_type": "markdown",
   "metadata": {
    "nbpresent": {
     "id": "e2b31f83-3699-4977-aca0-825b4978536a"
    }
   },
   "source": [
    "### Experiment 3: Making Things Worse\n",
    "\n",
    "#### Description\n",
    "Now that we've proven we can reliably beat a RandomPlayer, it's time to figure out what it takes to negatively impact the win rate. Here, we've increased the number of testing iterations to 1,000, while dropping the number of training iterations. Our objective was to see what it took to get the win rate down to 80%, our original target.\n",
    "\n",
    "#### Hypothesis\n"
   ]
  },
  {
   "cell_type": "code",
   "execution_count": 12,
   "metadata": {
    "collapsed": true
   },
   "outputs": [],
   "source": [
    "trainIterations = 75\n",
    "testIterations = 1000\n",
    "rho = 0.2\n",
    "initialEpsilon = 1.0\n",
    "epsilonDecay = 0.99\n",
    "\n",
    "p1 = players.AIPlayer(rho=rho, epsilon=initialEpsilon)\n",
    "p2 = players.RandomPlayer()"
   ]
  },
  {
   "cell_type": "code",
   "execution_count": 13,
   "metadata": {
    "collapsed": false,
    "scrolled": false
   },
   "outputs": [
    {
     "name": "stdout",
     "output_type": "stream",
     "text": [
      "Training AIPlayer vs. RandomPlayer\n",
      "Final Score:\tAI: 46 wins.\tRandom: 29 wins.\n",
      "Completed in 0.15919899940490723 seconds.\n",
      "\n",
      "Final Win Rate:  0.6133333333333333\n"
     ]
    },
    {
     "data": {
      "image/png": "[encoded data removed]",
      "text/plain": [
       "<matplotlib.figure.Figure at 0x1d5bb3dcdd8>"
      ]
     },
     "metadata": {},
     "output_type": "display_data"
    }
   ],
   "source": [
    "winrateTrain = trainVsRandom(p1, p2, trainIterations, epsilonDecay)\n",
    "graph_win_percentage(winrateTrain, \"Win Rate: Training an AIPlayer vs. a RandomPlayer\")"
   ]
  },
  {
   "cell_type": "code",
   "execution_count": 14,
   "metadata": {
    "collapsed": false,
    "scrolled": false
   },
   "outputs": [
    {
     "name": "stdout",
     "output_type": "stream",
     "text": [
      "Testing AIPlayer vs. RandomPlayer\n",
      "Final Score:\tAI: 787 wins.\tRandom: 213 wins.\n",
      "Completed in 2.2047665119171143 seconds.\n",
      "\n",
      "Final Win Rate:  0.787\n"
     ]
    },
    {
     "data": {
      "image/png": "[encoded data removed]",
      "text/plain": [
       "<matplotlib.figure.Figure at 0x1d5bb27d710>"
      ]
     },
     "metadata": {},
     "output_type": "display_data"
    }
   ],
   "source": [
    "winrateTest = testVsRandom(p1, p2, testIterations)\n",
    "graph_win_percentage(winrateTest, \"Win Rate: Testing an AIPlayer vs. a RandomPlayer\")"
   ]
  },
  {
   "cell_type": "markdown",
   "metadata": {},
   "source": [
    "#### Observations\n",
    "\n",
    "After testing, we discovered that around 75 iterations would give us around an 80% win rate, suggesting that this game is extremely easy to learn, our RandomPlayer is extremely easy to play against, or both. "
   ]
  },
  {
   "cell_type": "markdown",
   "metadata": {},
   "source": [
    "### Experiment 4: First Available Spot\n",
    "\n",
    "#### Description\n",
    "AIPlayer decides its next move based on a random chance variable (epsilon) and data that exists in a Q dictionary that is populated through reinforcement learning. If two next moves probabilities are equal when choosing a next move based on the Q dictionary, it will simply choose the first value. The first value is whatever free move is available starting from the top left of the board, moving to the right and down. How often would a player that only choses the first available position win against a player that choses lines at random?\n",
    "\n",
    "For this experiment, we will not do any training for AIPlayer. It will just run tests versus RandomPlayer. Also, epsilon initial will start at 0 so that there are no random moves made by AIPlayer.\n",
    "\n",
    "#### Hypothesis\n",
    "I believe that AIPlayer will actually win more than lose since completing the map from one side to the other is bound to fill out more squares as it goes. I do not think that the win rate will be high (like 75% and up), but I think it will be a bit higher than normal, maybe around 60% or so."
   ]
  },
  {
   "cell_type": "code",
   "execution_count": 42,
   "metadata": {
    "collapsed": true
   },
   "outputs": [],
   "source": [
    "trainIterations = 0\n",
    "testIterations = 100\n",
    "rho = 0.2\n",
    "initialEpsilon = 0.0\n",
    "epsilonDecay = 0.99\n",
    "\n",
    "p1 = players.AIPlayer(rho=rho, epsilon=initialEpsilon)\n",
    "p2 = players.RandomPlayer()"
   ]
  },
  {
   "cell_type": "code",
   "execution_count": 43,
   "metadata": {
    "collapsed": false,
    "scrolled": false
   },
   "outputs": [
    {
     "name": "stdout",
     "output_type": "stream",
     "text": [
      "Testing AIPlayer vs. RandomPlayer\n",
      "Final Score:\tAI: 100 wins.\tRandom: 0 wins.\n",
      "Completed in 0.2663302421569824 seconds.\n",
      "\n",
      "Final Win Rate:  1.0\n"
     ]
    },
    {
     "data": {
      "image/png": "[encoded data removed]",
      "text/plain": [
       "<matplotlib.figure.Figure at 0x1d58a7ee860>"
      ]
     },
     "metadata": {},
     "output_type": "display_data"
    }
   ],
   "source": [
    "winrateTest = testVsRandom(p1, p2, testIterations)\n",
    "graph_win_percentage(winrateTest, \"Win Rate: Testing an AIPlayer vs. a RandomPlayer\")"
   ]
  },
  {
   "cell_type": "code",
   "execution_count": 45,
   "metadata": {
    "collapsed": false
   },
   "outputs": [
    {
     "data": {
      "text/plain": [
       "{}"
      ]
     },
     "execution_count": 45,
     "metadata": {},
     "output_type": "execute_result"
    }
   ],
   "source": [
    "p1.Q"
   ]
  },
  {
   "cell_type": "markdown",
   "metadata": {},
   "source": [
    "#### Observations\n",
    "This is pretty remarkable. I noticed that if iniial epsilon was set to 0 (no random choices), the win rate while testing became 100% over different factors. Very intersting.\n",
    "\n",
    "We know this data is not being trained either as you can see above. The Q dictionary for AIPlayer is empty, meaning there is nothing for it to go off of when making decisions and is just grabbing lines in order from top to bottom, left to right."
   ]
  },
  {
   "cell_type": "markdown",
   "metadata": {},
   "source": [
    "## Conclusion\n",
    "The game of Dots and Boxes is a very simple game. As we could see from the data in Experiment 1, 2, and 3, it is easy to train a player to win against a random opponent.\n",
    "\n",
    "### Future Experiments\n",
    " - This experiment could be futher studied by running our AIPlayer against other opponents that use different strategies, such as the paths method mentioned earlier.\n",
    "\n",
    " - We could also try to train one Q dictionary using two AIPlayers. This may allow the players to learn more quickly, however each player will more or less know each other's moves and will be able to predict them easier. This may actually result in a smarter AI being able to discover unknown strategies to the game. This too might result in a much less intelligent AI since it will not be able to observe strategies from an outside source, so it would never figure out anything more than what it already knows.\n",
    " - It would be fun to make an interface that a human could interact with that would use the trained data to play against you. It would also be interesting to see how the AIPlayer would learn when training against a human player. Would it be able to anticipate the strategy behind a human player's choices? If so, would it then become \"smarter\" than the human training it since it would be able to mathematically analyze a human's strategy? If that were the case, and the AIPlayer was put up against the world's greatest Dots and Boxes player, would it then become greater than them?\n",
    " \n",
    "\n",
    "Reinforcement learning is a very fascinating topic, and the idea behind programs increasing their abilities in all applied situations, not just in 2 player games, is incredible and certainly the future of computing. This excites me to think that very soon, everyday devices will be able to adapt to human nature to help with things from menial tasks"
   ]
  }
 ],
 "metadata": {
  "anaconda-cloud": {},
  "kernelspec": {
   "display_name": "Python [conda root]",
   "language": "python",
   "name": "conda-root-py"
  },
  "language_info": {
   "codemirror_mode": {
    "name": "ipython",
    "version": 3
   },
   "file_extension": ".py",
   "mimetype": "text/x-python",
   "name": "python",
   "nbconvert_exporter": "python",
   "pygments_lexer": "ipython3",
   "version": "3.5.2"
  },
  "nbpresent": {
   "slides": {},
   "themes": {}
  }
 },
 "nbformat": 4,
 "nbformat_minor": 1
}
